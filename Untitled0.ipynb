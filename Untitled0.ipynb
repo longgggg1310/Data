{
  "nbformat": 4,
  "nbformat_minor": 0,
  "metadata": {
    "colab": {
      "name": "Untitled0.ipynb",
      "provenance": [],
      "collapsed_sections": [],
      "authorship_tag": "ABX9TyN5MpNSXy0i34GPXeXfLtRU",
      "include_colab_link": true
    },
    "kernelspec": {
      "name": "python3",
      "display_name": "Python 3"
    },
    "language_info": {
      "name": "python"
    }
  },
  "cells": [
    {
      "cell_type": "markdown",
      "metadata": {
        "id": "view-in-github",
        "colab_type": "text"
      },
      "source": [
        "<a href=\"https://colab.research.google.com/github/longgggg1310/Data/blob/main/Untitled0.ipynb\" target=\"_parent\"><img src=\"https://colab.research.google.com/assets/colab-badge.svg\" alt=\"Open In Colab\"/></a>"
      ]
    },
    {
      "cell_type": "code",
      "execution_count": 1,
      "metadata": {
        "colab": {
          "base_uri": "https://localhost:8080/"
        },
        "id": "9aDbl2k0w2A8",
        "outputId": "0e87fef9-d6f8-4c31-bc37-bc9caef35820"
      },
      "outputs": [
        {
          "output_type": "stream",
          "name": "stdout",
          "text": [
            "mkdir: cannot create directory ‘data’: File exists\n"
          ]
        }
      ],
      "source": [
        "!mkdir data"
      ]
    },
    {
      "cell_type": "code",
      "source": [
        "cd data"
      ],
      "metadata": {
        "colab": {
          "base_uri": "https://localhost:8080/"
        },
        "id": "g5beX57Xw51H",
        "outputId": "03ed224e-d1bb-4d1e-ab39-6c247fc2f786"
      },
      "execution_count": 2,
      "outputs": [
        {
          "output_type": "stream",
          "name": "stdout",
          "text": [
            "/content/data\n"
          ]
        }
      ]
    },
    {
      "cell_type": "code",
      "source": [
        "cd .."
      ],
      "metadata": {
        "colab": {
          "base_uri": "https://localhost:8080/"
        },
        "id": "rRC6t7muw57E",
        "outputId": "14db3e1b-1ad1-457c-aafa-33edc0ddcdd3"
      },
      "execution_count": 3,
      "outputs": [
        {
          "output_type": "stream",
          "name": "stdout",
          "text": [
            "/content\n"
          ]
        }
      ]
    },
    {
      "cell_type": "code",
      "source": [
        "from sklearn.model_selection import train_test_split as tts\n",
        "from keras.models import Sequential\n",
        "from keras.layers import Dense, Dropout, Conv2D, MaxPooling2D, Flatten\n",
        "from keras.utils import np_utils\n",
        "from random import randint\n",
        "import numpy as np\n",
        "import os\n",
        "from PIL import Image\n",
        "import matplotlib.pyplot as plt\n"
      ],
      "metadata": {
        "id": "9x9_DRxaw59F"
      },
      "execution_count": 36,
      "outputs": []
    },
    {
      "cell_type": "code",
      "source": [
        ""
      ],
      "metadata": {
        "id": "-UlGGl7_xAFO"
      },
      "execution_count": 4,
      "outputs": []
    },
    {
      "cell_type": "code",
      "source": [
        "cd data"
      ],
      "metadata": {
        "colab": {
          "base_uri": "https://localhost:8080/"
        },
        "id": "vq-ghKlyxAH2",
        "outputId": "1deb0eb0-ce82-48c1-b1cb-ec3658a2033c"
      },
      "execution_count": 5,
      "outputs": [
        {
          "output_type": "stream",
          "name": "stdout",
          "text": [
            "/content/data\n"
          ]
        }
      ]
    },
    {
      "cell_type": "code",
      "source": [
        "!wget https://storage.googleapis.com/quickdraw_dataset/full/numpy_bitmap/apple.npy\n",
        "!wget https://storage.googleapis.com/quickdraw_dataset/full/numpy_bitmap/pineapple.npy\n",
        "!wget https://storage.googleapis.com/quickdraw_dataset/full/numpy_bitmap/grapes.npy\n",
        "!wget https://storage.googleapis.com/quickdraw_dataset/full/numpy_bitmap/banana.npy"
      ],
      "metadata": {
        "colab": {
          "base_uri": "https://localhost:8080/"
        },
        "id": "IkM52kyZxAJv",
        "outputId": "a7053d3f-b411-4e75-e8cf-18032639f4a1"
      },
      "execution_count": 6,
      "outputs": [
        {
          "output_type": "stream",
          "name": "stdout",
          "text": [
            "--2021-12-08 07:29:15--  https://storage.googleapis.com/quickdraw_dataset/full/numpy_bitmap/apple.npy\n",
            "Resolving storage.googleapis.com (storage.googleapis.com)... 173.194.212.128, 173.194.215.128, 173.194.216.128, ...\n",
            "Connecting to storage.googleapis.com (storage.googleapis.com)|173.194.212.128|:443... connected.\n",
            "HTTP request sent, awaiting response... 200 OK\n",
            "Length: 113462128 (108M) [application/octet-stream]\n",
            "Saving to: ‘apple.npy.1’\n",
            "\n",
            "apple.npy.1         100%[===================>] 108.21M   127MB/s    in 0.9s    \n",
            "\n",
            "2021-12-08 07:29:16 (127 MB/s) - ‘apple.npy.1’ saved [113462128/113462128]\n",
            "\n",
            "--2021-12-08 07:29:16--  https://storage.googleapis.com/quickdraw_dataset/full/numpy_bitmap/pineapple.npy\n",
            "Resolving storage.googleapis.com (storage.googleapis.com)... 64.233.170.128, 172.217.204.128, 172.217.203.128, ...\n",
            "Connecting to storage.googleapis.com (storage.googleapis.com)|64.233.170.128|:443... connected.\n",
            "HTTP request sent, awaiting response... 200 OK\n",
            "Length: 98055744 (94M) [application/octet-stream]\n",
            "Saving to: ‘pineapple.npy.1’\n",
            "\n",
            "pineapple.npy.1     100%[===================>]  93.51M   123MB/s    in 0.8s    \n",
            "\n",
            "2021-12-08 07:29:17 (123 MB/s) - ‘pineapple.npy.1’ saved [98055744/98055744]\n",
            "\n",
            "--2021-12-08 07:29:17--  https://storage.googleapis.com/quickdraw_dataset/full/numpy_bitmap/grapes.npy\n",
            "Resolving storage.googleapis.com (storage.googleapis.com)... 173.194.211.128, 173.194.212.128, 173.194.213.128, ...\n",
            "Connecting to storage.googleapis.com (storage.googleapis.com)|173.194.211.128|:443... connected.\n",
            "HTTP request sent, awaiting response... 200 OK\n",
            "Length: 121759200 (116M) [application/octet-stream]\n",
            "Saving to: ‘grapes.npy.1’\n",
            "\n",
            "grapes.npy.1        100%[===================>] 116.12M   140MB/s    in 0.8s    \n",
            "\n",
            "2021-12-08 07:29:18 (140 MB/s) - ‘grapes.npy.1’ saved [121759200/121759200]\n",
            "\n",
            "--2021-12-08 07:29:18--  https://storage.googleapis.com/quickdraw_dataset/full/numpy_bitmap/banana.npy\n",
            "Resolving storage.googleapis.com (storage.googleapis.com)... 142.251.107.128, 108.177.13.128, 74.125.26.128, ...\n",
            "Connecting to storage.googleapis.com (storage.googleapis.com)|142.251.107.128|:443... connected.\n",
            "HTTP request sent, awaiting response... 200 OK\n",
            "Length: 241421904 (230M) [application/octet-stream]\n",
            "Saving to: ‘banana.npy.1’\n",
            "\n",
            "banana.npy.1        100%[===================>] 230.24M   157MB/s    in 1.5s    \n",
            "\n",
            "2021-12-08 07:29:19 (157 MB/s) - ‘banana.npy.1’ saved [241421904/241421904]\n",
            "\n"
          ]
        }
      ]
    },
    {
      "cell_type": "code",
      "source": [
        "cd .."
      ],
      "metadata": {
        "colab": {
          "base_uri": "https://localhost:8080/"
        },
        "id": "kCaFmWS0xAMB",
        "outputId": "8cdd805a-72a5-4c0c-8e74-e1fd9ab67e7d"
      },
      "execution_count": 25,
      "outputs": [
        {
          "output_type": "stream",
          "name": "stdout",
          "text": [
            "/content\n"
          ]
        }
      ]
    },
    {
      "cell_type": "code",
      "source": [
        "\n",
        "import urllib.request\n",
        "\n",
        "base = 'https://storage.googleapis.com/quickdraw_dataset/full/numpy_bitmap/'\n",
        "root = 'data1'\n",
        "os.mkdir('data1')\n",
        "class_names = ['umbrella', 'banana', 'grapes', 'pineapple']\n",
        "for c in class_names:\n",
        "    path = base+c+'.npy'\n",
        "    print(path)\n",
        "    urllib.request.urlretrieve(path, f'{root}/{c}.npy')\n",
        "print('Download data sucesss')\n",
        "\n"
      ],
      "metadata": {
        "colab": {
          "base_uri": "https://localhost:8080/"
        },
        "id": "iv2jvsr3-06e",
        "outputId": "927ccf37-5694-4327-c9df-0a5c096a05de"
      },
      "execution_count": 27,
      "outputs": [
        {
          "output_type": "stream",
          "name": "stdout",
          "text": [
            "https://storage.googleapis.com/quickdraw_dataset/full/numpy_bitmap/umbrella.npy\n",
            "https://storage.googleapis.com/quickdraw_dataset/full/numpy_bitmap/banana.npy\n",
            "https://storage.googleapis.com/quickdraw_dataset/full/numpy_bitmap/grapes.npy\n",
            "https://storage.googleapis.com/quickdraw_dataset/full/numpy_bitmap/pineapple.npy\n",
            "Download data sucesss\n"
          ]
        }
      ]
    },
    {
      "cell_type": "code",
      "source": [
        "\n",
        "test_split = 0.2\n",
        "max_items_per_class = 10000\n",
        "x = np.empty([0, 784])\n",
        "y = np.empty([0])\n",
        "for i, file in enumerate(class_names):\n",
        "      data = np.load(f'{root}/{file}.npy')\n",
        "      data = data[0: max_items_per_class, :]\n",
        "      labels = np.full(data.shape[0], i)\n",
        "\n",
        "      x = np.concatenate((x, data), axis=0)\n",
        "      y = np.append(y, labels)\n",
        "\n",
        "data = None\n",
        "labels = None\n",
        "permutation = np.random.permutation(y.shape[0])\n",
        "x = x[permutation, :]\n",
        "y = y[permutation]\n",
        "\n",
        "  #reshape and inverse the colors \n",
        "x = 255 - np.reshape(x, (x.shape[0], 28, 28))\n",
        "\n",
        "  #separate into training and testing \n",
        "test_size  = int(x.shape[0]/100*(test_split*100))\n",
        "\n",
        "x_test = x[0:test_size, :]\n",
        "y_test = y[0:test_size]\n",
        "\n",
        "x_train = x[test_size:x.shape[0], :]\n",
        "y_train = y[test_size:y.shape[0]]\n",
        "\n",
        "print('Training Data : ', x_train.shape[0])\n",
        "print('Testing  Data : ', x_test.shape[0])"
      ],
      "metadata": {
        "colab": {
          "base_uri": "https://localhost:8080/"
        },
        "id": "g87F7mVyxANi",
        "outputId": "4bead636-0f1a-4fea-9864-a375c82d44af"
      },
      "execution_count": 140,
      "outputs": [
        {
          "output_type": "stream",
          "name": "stdout",
          "text": [
            "Training Data :  32000\n",
            "Testing  Data :  8000\n"
          ]
        }
      ]
    },
    {
      "cell_type": "code",
      "source": [
        "X = np.concatenate((x_test,x_train),axis = 0)\n",
        "y = np.concatenate((y_test,y_train))"
      ],
      "metadata": {
        "id": "PBMzn1tGSPmY"
      },
      "execution_count": 137,
      "outputs": []
    },
    {
      "cell_type": "code",
      "source": [
        "def visualize_classes():\n",
        "  for i in range(0, 4):\n",
        "    img_batch = x_train[y_train == i][0:4]\n",
        "    img_batch = np.reshape(img_batch, (img_batch.shape[0]*img_batch.shape[1], img_batch.shape[2]))\n",
        "    if i > 0:\n",
        "      img = np.concatenate([img, img_batch], axis = 1)\n",
        "    else:\n",
        "      img = img_batch\n",
        "  plt.figure(figsize=(10,20))\n",
        "  plt.axis('off')\n",
        "  plt.imshow(img)"
      ],
      "metadata": {
        "id": "68jmJg-xxAPe"
      },
      "execution_count": 138,
      "outputs": []
    },
    {
      "cell_type": "code",
      "source": [
        "visualize_classes()"
      ],
      "metadata": {
        "colab": {
          "base_uri": "https://localhost:8080/",
          "height": 589
        },
        "id": "d2kkpsJVxARZ",
        "outputId": "dc8263c1-886c-4326-c21b-a3bd25d9a2a3"
      },
      "execution_count": 139,
      "outputs": [
        {
          "output_type": "display_data",
          "data": {
            "image/png": "[encoded data removed]",
            "text/plain": [
              "<Figure size 720x1440 with 1 Axes>"
            ]
          },
          "metadata": {
            "needs_background": "light"
          }
        }
      ]
    },
    {
      "cell_type": "code",
      "source": [
        "image_size = 28\n",
        "\n",
        "# Reshape and normalize\n",
        "x_train = x_train.reshape(x_train.shape[0], image_size, image_size, 1).astype('float32')\n",
        "x_test = x_test.reshape(x_test.shape[0], image_size, image_size, 1).astype('float32')\n",
        "\n",
        "x_train /= 255.0\n",
        "x_test /= 255.0\n",
        "\n",
        "# Convert class vectors to class matrices\n",
        "y_train = keras.utils.to_categorical(y_train, len(class_names))\n",
        "y_test = keras.utils.to_categorical(y_test, len(class_names))"
      ],
      "metadata": {
        "id": "LFKeHCbzAYMy"
      },
      "execution_count": 141,
      "outputs": []
    },
    {
      "cell_type": "code",
      "source": [
        "# Define model\n",
        "model = keras.Sequential()\n",
        "model.add(layers.Convolution2D(16, (3, 3),\n",
        "                        padding='same',\n",
        "                        input_shape=x_train.shape[1:], activation='relu'))\n",
        "model.add(layers.MaxPooling2D(pool_size=(2, 2)))\n",
        "model.add(layers.Convolution2D(32, (3, 3), padding='same', activation= 'relu'))\n",
        "model.add(layers.MaxPooling2D(pool_size=(2, 2)))\n",
        "model.add(layers.Convolution2D(64, (3, 3), padding='same', activation= 'relu'))\n",
        "model.add(layers.MaxPooling2D(pool_size =(2,2)))\n",
        "model.add(layers.Flatten())\n",
        "model.add(layers.Dense(128, activation='tanh'))\n",
        "model.add(layers.Dense(len(class_names), activation='softmax')) \n",
        "# Train model\n",
        "model.compile(loss='categorical_crossentropy',\n",
        "              optimizer='adam',\n",
        "              metrics=['accuracy'])\n",
        "print(model.summary())"
      ],
      "metadata": {
        "colab": {
          "base_uri": "https://localhost:8080/"
        },
        "id": "c4uGhRjfAYPm",
        "outputId": "0690cc35-3256-44e9-f860-3b0e26ea20ae"
      },
      "execution_count": 143,
      "outputs": [
        {
          "output_type": "stream",
          "name": "stdout",
          "text": [
            "Model: \"sequential_12\"\n",
            "_________________________________________________________________\n",
            " Layer (type)                Output Shape              Param #   \n",
            "=================================================================\n",
            " conv2d_42 (Conv2D)          (None, 28, 28, 16)        160       \n",
            "                                                                 \n",
            " max_pooling2d_41 (MaxPoolin  (None, 14, 14, 16)       0         \n",
            " g2D)                                                            \n",
            "                                                                 \n",
            " conv2d_43 (Conv2D)          (None, 14, 14, 32)        4640      \n",
            "                                                                 \n",
            " max_pooling2d_42 (MaxPoolin  (None, 7, 7, 32)         0         \n",
            " g2D)                                                            \n",
            "                                                                 \n",
            " conv2d_44 (Conv2D)          (None, 7, 7, 64)          18496     \n",
            "                                                                 \n",
            " max_pooling2d_43 (MaxPoolin  (None, 3, 3, 64)         0         \n",
            " g2D)                                                            \n",
            "                                                                 \n",
            " flatten_12 (Flatten)        (None, 576)               0         \n",
            "                                                                 \n",
            " dense_21 (Dense)            (None, 128)               73856     \n",
            "                                                                 \n",
            " dense_22 (Dense)            (None, 4)                 516       \n",
            "                                                                 \n",
            "=================================================================\n",
            "Total params: 97,668\n",
            "Trainable params: 97,668\n",
            "Non-trainable params: 0\n",
            "_________________________________________________________________\n",
            "None\n"
          ]
        }
      ]
    },
    {
      "cell_type": "code",
      "source": [
        "model.fit(x = x_train, y = y_train, validation_split=0.1, batch_size = 256, epochs=5)"
      ],
      "metadata": {
        "colab": {
          "base_uri": "https://localhost:8080/"
        },
        "id": "LwFyAzfZAYSR",
        "outputId": "6abedc7a-32e4-4410-d388-577db975d497"
      },
      "execution_count": 144,
      "outputs": [
        {
          "output_type": "stream",
          "name": "stdout",
          "text": [
            "Epoch 1/5\n",
            "113/113 [==============================] - 21s 182ms/step - loss: 0.4713 - accuracy: 0.8473 - val_loss: 0.2324 - val_accuracy: 0.9316\n",
            "Epoch 2/5\n",
            "113/113 [==============================] - 20s 179ms/step - loss: 0.1927 - accuracy: 0.9422 - val_loss: 0.1757 - val_accuracy: 0.9466\n",
            "Epoch 3/5\n",
            "113/113 [==============================] - 20s 181ms/step - loss: 0.1406 - accuracy: 0.9564 - val_loss: 0.1548 - val_accuracy: 0.9556\n",
            "Epoch 4/5\n",
            "113/113 [==============================] - 20s 180ms/step - loss: 0.1217 - accuracy: 0.9624 - val_loss: 0.1210 - val_accuracy: 0.9631\n",
            "Epoch 5/5\n",
            "113/113 [==============================] - 20s 179ms/step - loss: 0.1019 - accuracy: 0.9672 - val_loss: 0.1182 - val_accuracy: 0.9631\n"
          ]
        },
        {
          "output_type": "execute_result",
          "data": {
            "text/plain": [
              "<keras.callbacks.History at 0x7f4d511b93d0>"
            ]
          },
          "metadata": {},
          "execution_count": 144
        }
      ]
    },
    {
      "cell_type": "code",
      "source": [
        "#get predictions and true labels\n",
        "yhat = np.argmax(model.predict(x_test), axis = 1)\n",
        "y    = np.argmax(y_test, axis = 1)\n",
        "\n",
        "#get the indices of the bad labels \n",
        "bad_labels = np.argwhere((y == yhat) == False).squeeze()\n",
        "\n",
        "#choose a random index with incorrect label \n",
        "idx = np.random.choice(bad_labels)\n",
        "\n",
        "print('Truong hop dung  ',class_names[y[idx]])\n",
        "print('Du doan  ',class_names[yhat[idx]])\n",
        "plt.imshow(x_test[idx].squeeze())\n",
        "plt.axis('off')\n",
        "plt.show()"
      ],
      "metadata": {
        "colab": {
          "base_uri": "https://localhost:8080/",
          "height": 282
        },
        "id": "pnb4KY5yAYUf",
        "outputId": "93510a43-b4fe-4f23-ae7f-da0ef030609c"
      },
      "execution_count": 173,
      "outputs": [
        {
          "output_type": "stream",
          "name": "stdout",
          "text": [
            "Truong hop dung   umbrella\n",
            "Du doan   grapes\n"
          ]
        },
        {
          "output_type": "display_data",
          "data": {
            "image/png": "[encoded data removed]",
            "text/plain": [
              "<Figure size 432x288 with 1 Axes>"
            ]
          },
          "metadata": {
            "needs_background": "light"
          }
        }
      ]
    },
    {
      "cell_type": "code",
      "source": [
        ""
      ],
      "metadata": {
        "id": "42IkfiERAYZ1"
      },
      "execution_count": 52,
      "outputs": []
    },
    {
      "cell_type": "code",
      "source": [
        ""
      ],
      "metadata": {
        "id": "hL1XdAcxAYb3"
      },
      "execution_count": 72,
      "outputs": []
    },
    {
      "cell_type": "code",
      "source": [
        ""
      ],
      "metadata": {
        "id": "CS0ttn3wFyEs"
      },
      "execution_count": 72,
      "outputs": []
    }
  ]
}